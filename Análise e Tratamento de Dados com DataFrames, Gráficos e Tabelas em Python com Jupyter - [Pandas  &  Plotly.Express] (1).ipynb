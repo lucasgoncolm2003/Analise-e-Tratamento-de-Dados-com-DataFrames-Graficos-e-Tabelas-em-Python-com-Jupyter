{
 "cells": [
  {
   "cell_type": "markdown",
   "id": "90cfc22c",
   "metadata": {},
   "source": [
    "## Análise e Tratamento de Dados com DataFrames, Gráficos e Tabelas em Python com Jupyter - [Pandas  &  Plotly.Express]\n",
    "\n",
    "### • Análise de Dados\n",
    "### • Tratamento de Dados\n",
    "### • Criação de DataFrames\n",
    "### • Gráficos e Tabelas\n",
    "### • Linguagem Python\n",
    "### • Plataforma Jupyter\n",
    "### • Uso de Bibliotecas\n",
    "#### • Pandas\n",
    "#### • Plotly.Express"
   ]
  },
  {
   "cell_type": "code",
   "execution_count": null,
   "id": "6c97e731",
   "metadata": {},
   "outputs": [],
   "source": [
    "#!/usr/bin/env python\n",
    "# coding: utf-8\n",
    "# In[8]:\n",
    "# ----Importação da base de dados\n",
    "import pandas as pd\n",
    "tabela = pd.read_csv(r\"Endereço até o Arquivo\")\n",
    "# read_csv: Leitura da Base de Dados em Formato CSV\n",
    "tabela = tabela.drop(\"Unnamed: 0\", axis=1)\n",
    "# drop: Apaga a Coluna Sem Nome (axis=1 é Coluna)\n",
    "display(tabela)\n",
    "# display: Mostra a Tabela no Display"
   ]
  },
  {
   "cell_type": "code",
   "execution_count": null,
   "id": "1be3a6f7",
   "metadata": {},
   "outputs": [],
   "source": [
    "# In[9]:\n",
    "# ----Tratamento de Dados\n",
    "# Converte Valores da Coluna \"Total Gasto\" para Numérico, com Erro Coerce.\n",
    "# Erro Coerce: Conversão Inválida é definida por NaN.\n",
    "tabela[\"TotalGasto\"] = pd.to_numeric(tabela[\"TotalGasto\"], errors=\"coerce\")\n",
    "# dropna(how=\"all\", axis=1): deleta Todas as Colunas (axis=1) da Base.\n",
    "tabela = tabela.dropna(how=\"all\", axis=1)\n",
    "# dropna(how=\"any\", axis=0): deleta Qualquer uma das Linhas (axis=0) da Base.\n",
    "tabela = tabela.dropna(how=\"any\", axis=0)\n",
    "print(tabela.info())"
   ]
  },
  {
   "cell_type": "code",
   "execution_count": null,
   "id": "8cf52fbe",
   "metadata": {},
   "outputs": [],
   "source": [
    "# In[10]:\n",
    "# ----Análise Inicial\n",
    "# Contagem de Instâncias na Coluna de Churn, ou de Cancelamento\n",
    "print(tabela[\"Churn\"].value_counts())\n",
    "# normalize=True: retorna a Porcentagem dos Valores Contados\n",
    "# map(\"{:.1%}\".format): faz um Map dos Valores Formatados para uma Casa Decimal\n",
    "print(tabela[\"Churn\"].value_counts(normalize=True).map(\"{:.1%}\".format))"
   ]
  },
  {
   "cell_type": "code",
   "execution_count": null,
   "id": "e635f0f8",
   "metadata": {},
   "outputs": [],
   "source": [
    "# In[11]:\n",
    "# ----Análise Completa\n",
    "import plotly.express as px\n",
    "for coluna in tabela.columns:\n",
    "# Cria um Gráfico com base em uma Coluna da Tabela\n",
    "# Edições em Gráficos são feitas em: https://plotly.com/python/histograms/\n",
    "    grafico = px.histogram(tabela, x=coluna, color=\"Churn\", text_auto=True)\n",
    "# Elaboração de Histograma, com Texto Automático.\n",
    "# color_discrete_sequence=[\"blue\", \"green\"] muda as Cores do Gráfico\n",
    "# show: realiza a Exibição do Gráfico\n",
    "    grafico.show()"
   ]
  },
  {
   "cell_type": "code",
   "execution_count": null,
   "id": "7e7d0f20",
   "metadata": {},
   "outputs": [],
   "source": [
    "# In[12]:\n",
    "get_ipython().system('pip install plotly')"
   ]
  }
 ],
 "metadata": {
  "kernelspec": {
   "display_name": "Python 3 (ipykernel)",
   "language": "python",
   "name": "python3"
  },
  "language_info": {
   "codemirror_mode": {
    "name": "ipython",
    "version": 3
   },
   "file_extension": ".py",
   "mimetype": "text/x-python",
   "name": "python",
   "nbconvert_exporter": "python",
   "pygments_lexer": "ipython3",
   "version": "3.9.12"
  }
 },
 "nbformat": 4,
 "nbformat_minor": 5
}
